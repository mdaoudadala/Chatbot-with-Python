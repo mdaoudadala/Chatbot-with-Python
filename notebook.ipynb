{
 "cells": [
  {
   "cell_type": "markdown",
   "metadata": {},
   "source": [
    "## Creating a Chatbot with Python\n",
    "\n",
    "Now that you understand the significance of chatbots and their role in resolving common customer issues, let's delve into how to create one using Python. In this tutorial, we'll utilize the NLTK library, one of the most powerful Python libraries for natural language processing tasks."
   ]
  },
  {
   "cell_type": "code",
   "execution_count": 1,
   "metadata": {},
   "outputs": [],
   "source": [
    "from nltk.chat.util import Chat, reflections"
   ]
  },
  {
   "cell_type": "markdown",
   "metadata": {},
   "source": [
    "Below is a way to define a set of predefined queries and their corresponding responses for the chatbot using Python:"
   ]
  },
  {
   "cell_type": "code",
   "execution_count": 4,
   "metadata": {},
   "outputs": [],
   "source": [
    "#Pairs is a list of patterns and responses.\n",
    "pairs = [\n",
    "    [\n",
    "        r\"(.*)my name is (.*)\",\n",
    "        [\"Hello %2, How are you today ?\",]\n",
    "    ],\n",
    "    [\n",
    "        r\"(.*)help(.*) \",\n",
    "        [\"I can help you \",]\n",
    "    ],\n",
    "     [\n",
    "        r\"(.*) your name ?\",\n",
    "        [\"My name is the clever programmer, but you can just call me robot and I'm a chatbot .\",]\n",
    "    ],\n",
    "    [\n",
    "        r\"how are you (.*) ?\",\n",
    "        [\"I'm doing very well\", \"i am great !\"]\n",
    "    ],\n",
    "    [\n",
    "        r\"sorry (.*)\",\n",
    "        [\"Its alright\",\"Its OK, never mind that\",]\n",
    "    ],\n",
    "    [\n",
    "        r\"i'm (.*) (good|well|okay|ok)\",\n",
    "        [\"Nice to hear that\",\"Alright, great !\",]\n",
    "    ],\n",
    "    [\n",
    "        r\"(hi|hey|hello|hola|holla)(.*)\",\n",
    "        [\"Hello\", \"Hey there\",]\n",
    "    ],\n",
    "    [\n",
    "        r\"what (.*) want ?\",\n",
    "        [\"Make me an offer I can't refuse\",]\n",
    "        \n",
    "    ],\n",
    "    [\n",
    "        r\"(.*)created(.*)\",\n",
    "        [\"Moustapha Daouda Dala created me using Python's NLTK library \",\"top secret ;)\",]\n",
    "    ],\n",
    "    [\n",
    "        r\"(.*) (location|city) ?\",\n",
    "        ['Bordeaux, France',]\n",
    "    ],\n",
    "    [\n",
    "        r\"(.*)raining in (.*)\",\n",
    "        [\"No rain in the past 4 days here in %2\",\"In %2 there is a 50% chance of rain\",]\n",
    "    ],\n",
    "    [\n",
    "        r\"how (.*) health (.*)\",\n",
    "        [\"Health is very important, but I am a computer, so I don't need to worry about my health \",]\n",
    "    ],\n",
    "    [\n",
    "        r\"(.*)(sports|game|sport)(.*)\",\n",
    "        [\"I'm a very big fan of Football\",]\n",
    "    ],\n",
    "    [\n",
    "        r\"who (.*) (Footballer|Player)?\",\n",
    "        [\"Kylian Mbappe\"]\n",
    "    ],\n",
    "    [\n",
    "        r\"quit\",\n",
    "        [\"Bye for now. See you soon :) \",\"It was nice talking to you. See you soon :)\"]\n",
    "    ],\n",
    "    [\n",
    "        r\"(.*)\",\n",
    "        ['That is nice to hear']\n",
    "    ],\n",
    "]"
   ]
  },
  {
   "cell_type": "markdown",
   "metadata": {},
   "source": [
    "Now, let's execute this program and engage with the chatbot by posing some queries from the list provided above:"
   ]
  },
  {
   "cell_type": "code",
   "execution_count": 5,
   "metadata": {},
   "outputs": [
    {
     "name": "stdout",
     "output_type": "stream",
     "text": [
      "Hi, I'm the clever programmer and I like to chat\n",
      "Please type lowercase English language to start a conversation. Type quit to leave \n",
      "Hey there\n",
      "That is nice to hear\n",
      "Moustapha Daouda Dala created me using Python's NLTK library \n",
      "top secret ;)\n",
      "Bye for now. See you soon :) \n"
     ]
    }
   ],
   "source": [
    "#default message at the start of chat\n",
    "print(\"Hi, I'm the clever programmer and I like to chat\\nPlease type lowercase English language to start a conversation. Type quit to leave \")\n",
    "#Create Chat Bot\n",
    "chat = Chat(pairs, reflections)\n",
    "#Start conversation\n",
    "chat.converse()"
   ]
  },
  {
   "cell_type": "markdown",
   "metadata": {},
   "source": [
    "Thus, the chatbot performs admirably. Further enhancements can be made by incorporating additional Python NLP packages or by expanding its repertoire with more queries."
   ]
  }
 ],
 "metadata": {
  "kernelspec": {
   "display_name": "Python 3",
   "language": "python",
   "name": "python3"
  },
  "language_info": {
   "codemirror_mode": {
    "name": "ipython",
    "version": 3
   },
   "file_extension": ".py",
   "mimetype": "text/x-python",
   "name": "python",
   "nbconvert_exporter": "python",
   "pygments_lexer": "ipython3",
   "version": "3.10.12"
  }
 },
 "nbformat": 4,
 "nbformat_minor": 2
}
